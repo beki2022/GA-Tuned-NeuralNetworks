{
  "cells": [
    {
      "cell_type": "markdown",
      "metadata": {
        "id": "view-in-github",
        "colab_type": "text"
      },
      "source": [
        "<a href=\"https://colab.research.google.com/github/beki2022/GA-Tuned-NeuralNetworks/blob/master/Untitled2.ipynb\" target=\"_parent\"><img src=\"https://colab.research.google.com/assets/colab-badge.svg\" alt=\"Open In Colab\"/></a>"
      ]
    },
    {
      "cell_type": "code",
      "execution_count": null,
      "metadata": {
        "id": "JhyBG2JfKiYr"
      },
      "outputs": [],
      "source": [
        "#import neccerary libarary\n",
        "\n",
        "import tensorflow as tf\n",
        "import keras\n",
        "import numpy as np\n",
        "import pandas as pd\n",
        "import random \n",
        "import time\n",
        "import matplotlib.pyplot as plt\n",
        "from sklearn.preprocessing import MinMaxScaler\n",
        "from keras.models import Sequential, load_model\n",
        "from tensorflow.keras.optimizers import SGD, Adam\n",
        "from keras.layers import LSTM, Dense, Dropout\n",
        "import os"
      ]
    },
    {
      "cell_type": "code",
      "execution_count": null,
      "metadata": {
        "colab": {
          "base_uri": "https://localhost:8080/"
        },
        "id": "jybFLwYoKpCU",
        "outputId": "ba926e9b-8465-4831-d5b3-ad5aa0996dce"
      },
      "outputs": [
        {
          "name": "stdout",
          "output_type": "stream",
          "text": [
            "Drive already mounted at /content/drive; to attempt to forcibly remount, call drive.mount(\"/content/drive\", force_remount=True).\n"
          ]
        }
      ],
      "source": [
        "from google.colab import drive\n",
        "drive.mount('/content/drive')"
      ]
    },
    {
      "cell_type": "code",
      "execution_count": null,
      "metadata": {
        "colab": {
          "base_uri": "https://localhost:8080/",
          "height": 424
        },
        "id": "uSRT_ORxLGYq",
        "outputId": "a795a229-617b-4a6c-cce6-9606d1edc8f8"
      },
      "outputs": [
        {
          "data": {
            "text/html": [
              "\n",
              "  <div id=\"df-31aea119-ec88-496f-a748-2ff02a5cdf96\">\n",
              "    <div class=\"colab-df-container\">\n",
              "      <div>\n",
              "<style scoped>\n",
              "    .dataframe tbody tr th:only-of-type {\n",
              "        vertical-align: middle;\n",
              "    }\n",
              "\n",
              "    .dataframe tbody tr th {\n",
              "        vertical-align: top;\n",
              "    }\n",
              "\n",
              "    .dataframe thead th {\n",
              "        text-align: right;\n",
              "    }\n",
              "</style>\n",
              "<table border=\"1\" class=\"dataframe\">\n",
              "  <thead>\n",
              "    <tr style=\"text-align: right;\">\n",
              "      <th></th>\n",
              "      <th>T</th>\n",
              "      <th>Ir11</th>\n",
              "      <th>Ir21</th>\n",
              "      <th>Ir31</th>\n",
              "      <th>Ir12</th>\n",
              "      <th>Ir22</th>\n",
              "      <th>Ir32</th>\n",
              "      <th>Voltage_pmax</th>\n",
              "    </tr>\n",
              "  </thead>\n",
              "  <tbody>\n",
              "    <tr>\n",
              "      <th>0</th>\n",
              "      <td>25</td>\n",
              "      <td>512.142648</td>\n",
              "      <td>1068.906497</td>\n",
              "      <td>879.054931</td>\n",
              "      <td>1080.772540</td>\n",
              "      <td>1305.994998</td>\n",
              "      <td>1361.837196</td>\n",
              "      <td>89.993092</td>\n",
              "    </tr>\n",
              "    <tr>\n",
              "      <th>1</th>\n",
              "      <td>25</td>\n",
              "      <td>268.839689</td>\n",
              "      <td>194.423884</td>\n",
              "      <td>974.772872</td>\n",
              "      <td>131.348038</td>\n",
              "      <td>735.566165</td>\n",
              "      <td>742.481906</td>\n",
              "      <td>57.636579</td>\n",
              "    </tr>\n",
              "    <tr>\n",
              "      <th>2</th>\n",
              "      <td>25</td>\n",
              "      <td>1205.595736</td>\n",
              "      <td>678.794667</td>\n",
              "      <td>550.838906</td>\n",
              "      <td>940.003595</td>\n",
              "      <td>1037.761121</td>\n",
              "      <td>728.073454</td>\n",
              "      <td>91.408712</td>\n",
              "    </tr>\n",
              "    <tr>\n",
              "      <th>3</th>\n",
              "      <td>25</td>\n",
              "      <td>486.797740</td>\n",
              "      <td>209.996155</td>\n",
              "      <td>820.528894</td>\n",
              "      <td>367.003445</td>\n",
              "      <td>62.235729</td>\n",
              "      <td>1056.906574</td>\n",
              "      <td>60.258072</td>\n",
              "    </tr>\n",
              "    <tr>\n",
              "      <th>4</th>\n",
              "      <td>25</td>\n",
              "      <td>339.899501</td>\n",
              "      <td>619.363238</td>\n",
              "      <td>962.914519</td>\n",
              "      <td>502.919495</td>\n",
              "      <td>1030.876104</td>\n",
              "      <td>552.590465</td>\n",
              "      <td>92.205001</td>\n",
              "    </tr>\n",
              "    <tr>\n",
              "      <th>...</th>\n",
              "      <td>...</td>\n",
              "      <td>...</td>\n",
              "      <td>...</td>\n",
              "      <td>...</td>\n",
              "      <td>...</td>\n",
              "      <td>...</td>\n",
              "      <td>...</td>\n",
              "      <td>...</td>\n",
              "    </tr>\n",
              "    <tr>\n",
              "      <th>11654</th>\n",
              "      <td>25</td>\n",
              "      <td>131.016801</td>\n",
              "      <td>301.905858</td>\n",
              "      <td>122.561163</td>\n",
              "      <td>1098.596263</td>\n",
              "      <td>827.474563</td>\n",
              "      <td>449.031888</td>\n",
              "      <td>58.678459</td>\n",
              "    </tr>\n",
              "    <tr>\n",
              "      <th>11655</th>\n",
              "      <td>25</td>\n",
              "      <td>877.679377</td>\n",
              "      <td>1264.690614</td>\n",
              "      <td>362.452201</td>\n",
              "      <td>549.186622</td>\n",
              "      <td>275.378149</td>\n",
              "      <td>1147.440195</td>\n",
              "      <td>59.549993</td>\n",
              "    </tr>\n",
              "    <tr>\n",
              "      <th>11656</th>\n",
              "      <td>25</td>\n",
              "      <td>79.549659</td>\n",
              "      <td>635.412779</td>\n",
              "      <td>346.649566</td>\n",
              "      <td>520.209246</td>\n",
              "      <td>221.311753</td>\n",
              "      <td>824.481105</td>\n",
              "      <td>59.758362</td>\n",
              "    </tr>\n",
              "    <tr>\n",
              "      <th>11657</th>\n",
              "      <td>25</td>\n",
              "      <td>778.320387</td>\n",
              "      <td>201.402431</td>\n",
              "      <td>1371.220597</td>\n",
              "      <td>1031.953618</td>\n",
              "      <td>149.761299</td>\n",
              "      <td>128.482777</td>\n",
              "      <td>26.323530</td>\n",
              "    </tr>\n",
              "    <tr>\n",
              "      <th>11658</th>\n",
              "      <td>25</td>\n",
              "      <td>738.300231</td>\n",
              "      <td>452.258022</td>\n",
              "      <td>671.732485</td>\n",
              "      <td>147.305164</td>\n",
              "      <td>1366.558839</td>\n",
              "      <td>1074.729822</td>\n",
              "      <td>57.528890</td>\n",
              "    </tr>\n",
              "  </tbody>\n",
              "</table>\n",
              "<p>11659 rows × 8 columns</p>\n",
              "</div>\n",
              "      <button class=\"colab-df-convert\" onclick=\"convertToInteractive('df-31aea119-ec88-496f-a748-2ff02a5cdf96')\"\n",
              "              title=\"Convert this dataframe to an interactive table.\"\n",
              "              style=\"display:none;\">\n",
              "        \n",
              "  <svg xmlns=\"http://www.w3.org/2000/svg\" height=\"24px\"viewBox=\"0 0 24 24\"\n",
              "       width=\"24px\">\n",
              "    <path d=\"M0 0h24v24H0V0z\" fill=\"none\"/>\n",
              "    <path d=\"M18.56 5.44l.94 2.06.94-2.06 2.06-.94-2.06-.94-.94-2.06-.94 2.06-2.06.94zm-11 1L8.5 8.5l.94-2.06 2.06-.94-2.06-.94L8.5 2.5l-.94 2.06-2.06.94zm10 10l.94 2.06.94-2.06 2.06-.94-2.06-.94-.94-2.06-.94 2.06-2.06.94z\"/><path d=\"M17.41 7.96l-1.37-1.37c-.4-.4-.92-.59-1.43-.59-.52 0-1.04.2-1.43.59L10.3 9.45l-7.72 7.72c-.78.78-.78 2.05 0 2.83L4 21.41c.39.39.9.59 1.41.59.51 0 1.02-.2 1.41-.59l7.78-7.78 2.81-2.81c.8-.78.8-2.07 0-2.86zM5.41 20L4 18.59l7.72-7.72 1.47 1.35L5.41 20z\"/>\n",
              "  </svg>\n",
              "      </button>\n",
              "      \n",
              "  <style>\n",
              "    .colab-df-container {\n",
              "      display:flex;\n",
              "      flex-wrap:wrap;\n",
              "      gap: 12px;\n",
              "    }\n",
              "\n",
              "    .colab-df-convert {\n",
              "      background-color: #E8F0FE;\n",
              "      border: none;\n",
              "      border-radius: 50%;\n",
              "      cursor: pointer;\n",
              "      display: none;\n",
              "      fill: #1967D2;\n",
              "      height: 32px;\n",
              "      padding: 0 0 0 0;\n",
              "      width: 32px;\n",
              "    }\n",
              "\n",
              "    .colab-df-convert:hover {\n",
              "      background-color: #E2EBFA;\n",
              "      box-shadow: 0px 1px 2px rgba(60, 64, 67, 0.3), 0px 1px 3px 1px rgba(60, 64, 67, 0.15);\n",
              "      fill: #174EA6;\n",
              "    }\n",
              "\n",
              "    [theme=dark] .colab-df-convert {\n",
              "      background-color: #3B4455;\n",
              "      fill: #D2E3FC;\n",
              "    }\n",
              "\n",
              "    [theme=dark] .colab-df-convert:hover {\n",
              "      background-color: #434B5C;\n",
              "      box-shadow: 0px 1px 3px 1px rgba(0, 0, 0, 0.15);\n",
              "      filter: drop-shadow(0px 1px 2px rgba(0, 0, 0, 0.3));\n",
              "      fill: #FFFFFF;\n",
              "    }\n",
              "  </style>\n",
              "\n",
              "      <script>\n",
              "        const buttonEl =\n",
              "          document.querySelector('#df-31aea119-ec88-496f-a748-2ff02a5cdf96 button.colab-df-convert');\n",
              "        buttonEl.style.display =\n",
              "          google.colab.kernel.accessAllowed ? 'block' : 'none';\n",
              "\n",
              "        async function convertToInteractive(key) {\n",
              "          const element = document.querySelector('#df-31aea119-ec88-496f-a748-2ff02a5cdf96');\n",
              "          const dataTable =\n",
              "            await google.colab.kernel.invokeFunction('convertToInteractive',\n",
              "                                                     [key], {});\n",
              "          if (!dataTable) return;\n",
              "\n",
              "          const docLinkHtml = 'Like what you see? Visit the ' +\n",
              "            '<a target=\"_blank\" href=https://colab.research.google.com/notebooks/data_table.ipynb>data table notebook</a>'\n",
              "            + ' to learn more about interactive tables.';\n",
              "          element.innerHTML = '';\n",
              "          dataTable['output_type'] = 'display_data';\n",
              "          await google.colab.output.renderOutput(dataTable, element);\n",
              "          const docLink = document.createElement('div');\n",
              "          docLink.innerHTML = docLinkHtml;\n",
              "          element.appendChild(docLink);\n",
              "        }\n",
              "      </script>\n",
              "    </div>\n",
              "  </div>\n",
              "  "
            ],
            "text/plain": [
              "        T         Ir11         Ir21         Ir31         Ir12         Ir22  \\\n",
              "0      25   512.142648  1068.906497   879.054931  1080.772540  1305.994998   \n",
              "1      25   268.839689   194.423884   974.772872   131.348038   735.566165   \n",
              "2      25  1205.595736   678.794667   550.838906   940.003595  1037.761121   \n",
              "3      25   486.797740   209.996155   820.528894   367.003445    62.235729   \n",
              "4      25   339.899501   619.363238   962.914519   502.919495  1030.876104   \n",
              "...    ..          ...          ...          ...          ...          ...   \n",
              "11654  25   131.016801   301.905858   122.561163  1098.596263   827.474563   \n",
              "11655  25   877.679377  1264.690614   362.452201   549.186622   275.378149   \n",
              "11656  25    79.549659   635.412779   346.649566   520.209246   221.311753   \n",
              "11657  25   778.320387   201.402431  1371.220597  1031.953618   149.761299   \n",
              "11658  25   738.300231   452.258022   671.732485   147.305164  1366.558839   \n",
              "\n",
              "              Ir32  Voltage_pmax  \n",
              "0      1361.837196     89.993092  \n",
              "1       742.481906     57.636579  \n",
              "2       728.073454     91.408712  \n",
              "3      1056.906574     60.258072  \n",
              "4       552.590465     92.205001  \n",
              "...            ...           ...  \n",
              "11654   449.031888     58.678459  \n",
              "11655  1147.440195     59.549993  \n",
              "11656   824.481105     59.758362  \n",
              "11657   128.482777     26.323530  \n",
              "11658  1074.729822     57.528890  \n",
              "\n",
              "[11659 rows x 8 columns]"
            ]
          },
          "execution_count": 64,
          "metadata": {},
          "output_type": "execute_result"
        }
      ],
      "source": [
        "#load the data set\n",
        "\n",
        "data= pd.read_csv('/content/drive/MyDrive/TRY123.csv')\n",
        "data "
      ]
    },
    {
      "cell_type": "code",
      "execution_count": null,
      "metadata": {
        "colab": {
          "base_uri": "https://localhost:8080/",
          "height": 424
        },
        "id": "DBBoWiBjLUAS",
        "outputId": "6b7b844c-15d5-4d52-dfd7-1d03295ec420"
      },
      "outputs": [
        {
          "data": {
            "text/html": [
              "\n",
              "  <div id=\"df-4f9c13b4-037f-437f-a731-0e1644d940eb\">\n",
              "    <div class=\"colab-df-container\">\n",
              "      <div>\n",
              "<style scoped>\n",
              "    .dataframe tbody tr th:only-of-type {\n",
              "        vertical-align: middle;\n",
              "    }\n",
              "\n",
              "    .dataframe tbody tr th {\n",
              "        vertical-align: top;\n",
              "    }\n",
              "\n",
              "    .dataframe thead th {\n",
              "        text-align: right;\n",
              "    }\n",
              "</style>\n",
              "<table border=\"1\" class=\"dataframe\">\n",
              "  <thead>\n",
              "    <tr style=\"text-align: right;\">\n",
              "      <th></th>\n",
              "      <th>T</th>\n",
              "      <th>Ir11</th>\n",
              "      <th>Ir21</th>\n",
              "      <th>Ir31</th>\n",
              "      <th>Ir12</th>\n",
              "      <th>Ir22</th>\n",
              "      <th>Ir32</th>\n",
              "      <th>Voltage_pmax</th>\n",
              "    </tr>\n",
              "  </thead>\n",
              "  <tbody>\n",
              "    <tr>\n",
              "      <th>0</th>\n",
              "      <td>25</td>\n",
              "      <td>512.142648</td>\n",
              "      <td>1068.906497</td>\n",
              "      <td>879.054931</td>\n",
              "      <td>1080.772540</td>\n",
              "      <td>1305.994998</td>\n",
              "      <td>1361.837196</td>\n",
              "      <td>89.993092</td>\n",
              "    </tr>\n",
              "    <tr>\n",
              "      <th>1</th>\n",
              "      <td>25</td>\n",
              "      <td>268.839689</td>\n",
              "      <td>194.423884</td>\n",
              "      <td>974.772872</td>\n",
              "      <td>131.348038</td>\n",
              "      <td>735.566165</td>\n",
              "      <td>742.481906</td>\n",
              "      <td>57.636579</td>\n",
              "    </tr>\n",
              "    <tr>\n",
              "      <th>2</th>\n",
              "      <td>25</td>\n",
              "      <td>1205.595736</td>\n",
              "      <td>678.794667</td>\n",
              "      <td>550.838906</td>\n",
              "      <td>940.003595</td>\n",
              "      <td>1037.761121</td>\n",
              "      <td>728.073454</td>\n",
              "      <td>91.408712</td>\n",
              "    </tr>\n",
              "    <tr>\n",
              "      <th>3</th>\n",
              "      <td>25</td>\n",
              "      <td>486.797740</td>\n",
              "      <td>209.996155</td>\n",
              "      <td>820.528894</td>\n",
              "      <td>367.003445</td>\n",
              "      <td>62.235729</td>\n",
              "      <td>1056.906574</td>\n",
              "      <td>60.258072</td>\n",
              "    </tr>\n",
              "    <tr>\n",
              "      <th>4</th>\n",
              "      <td>25</td>\n",
              "      <td>339.899501</td>\n",
              "      <td>619.363238</td>\n",
              "      <td>962.914519</td>\n",
              "      <td>502.919495</td>\n",
              "      <td>1030.876104</td>\n",
              "      <td>552.590465</td>\n",
              "      <td>92.205001</td>\n",
              "    </tr>\n",
              "    <tr>\n",
              "      <th>...</th>\n",
              "      <td>...</td>\n",
              "      <td>...</td>\n",
              "      <td>...</td>\n",
              "      <td>...</td>\n",
              "      <td>...</td>\n",
              "      <td>...</td>\n",
              "      <td>...</td>\n",
              "      <td>...</td>\n",
              "    </tr>\n",
              "    <tr>\n",
              "      <th>11654</th>\n",
              "      <td>25</td>\n",
              "      <td>131.016801</td>\n",
              "      <td>301.905858</td>\n",
              "      <td>122.561163</td>\n",
              "      <td>1098.596263</td>\n",
              "      <td>827.474563</td>\n",
              "      <td>449.031888</td>\n",
              "      <td>58.678459</td>\n",
              "    </tr>\n",
              "    <tr>\n",
              "      <th>11655</th>\n",
              "      <td>25</td>\n",
              "      <td>877.679377</td>\n",
              "      <td>1264.690614</td>\n",
              "      <td>362.452201</td>\n",
              "      <td>549.186622</td>\n",
              "      <td>275.378149</td>\n",
              "      <td>1147.440195</td>\n",
              "      <td>59.549993</td>\n",
              "    </tr>\n",
              "    <tr>\n",
              "      <th>11656</th>\n",
              "      <td>25</td>\n",
              "      <td>79.549659</td>\n",
              "      <td>635.412779</td>\n",
              "      <td>346.649566</td>\n",
              "      <td>520.209246</td>\n",
              "      <td>221.311753</td>\n",
              "      <td>824.481105</td>\n",
              "      <td>59.758362</td>\n",
              "    </tr>\n",
              "    <tr>\n",
              "      <th>11657</th>\n",
              "      <td>25</td>\n",
              "      <td>778.320387</td>\n",
              "      <td>201.402431</td>\n",
              "      <td>1371.220597</td>\n",
              "      <td>1031.953618</td>\n",
              "      <td>149.761299</td>\n",
              "      <td>128.482777</td>\n",
              "      <td>26.323530</td>\n",
              "    </tr>\n",
              "    <tr>\n",
              "      <th>11658</th>\n",
              "      <td>25</td>\n",
              "      <td>738.300231</td>\n",
              "      <td>452.258022</td>\n",
              "      <td>671.732485</td>\n",
              "      <td>147.305164</td>\n",
              "      <td>1366.558839</td>\n",
              "      <td>1074.729822</td>\n",
              "      <td>57.528890</td>\n",
              "    </tr>\n",
              "  </tbody>\n",
              "</table>\n",
              "<p>11659 rows × 8 columns</p>\n",
              "</div>\n",
              "      <button class=\"colab-df-convert\" onclick=\"convertToInteractive('df-4f9c13b4-037f-437f-a731-0e1644d940eb')\"\n",
              "              title=\"Convert this dataframe to an interactive table.\"\n",
              "              style=\"display:none;\">\n",
              "        \n",
              "  <svg xmlns=\"http://www.w3.org/2000/svg\" height=\"24px\"viewBox=\"0 0 24 24\"\n",
              "       width=\"24px\">\n",
              "    <path d=\"M0 0h24v24H0V0z\" fill=\"none\"/>\n",
              "    <path d=\"M18.56 5.44l.94 2.06.94-2.06 2.06-.94-2.06-.94-.94-2.06-.94 2.06-2.06.94zm-11 1L8.5 8.5l.94-2.06 2.06-.94-2.06-.94L8.5 2.5l-.94 2.06-2.06.94zm10 10l.94 2.06.94-2.06 2.06-.94-2.06-.94-.94-2.06-.94 2.06-2.06.94z\"/><path d=\"M17.41 7.96l-1.37-1.37c-.4-.4-.92-.59-1.43-.59-.52 0-1.04.2-1.43.59L10.3 9.45l-7.72 7.72c-.78.78-.78 2.05 0 2.83L4 21.41c.39.39.9.59 1.41.59.51 0 1.02-.2 1.41-.59l7.78-7.78 2.81-2.81c.8-.78.8-2.07 0-2.86zM5.41 20L4 18.59l7.72-7.72 1.47 1.35L5.41 20z\"/>\n",
              "  </svg>\n",
              "      </button>\n",
              "      \n",
              "  <style>\n",
              "    .colab-df-container {\n",
              "      display:flex;\n",
              "      flex-wrap:wrap;\n",
              "      gap: 12px;\n",
              "    }\n",
              "\n",
              "    .colab-df-convert {\n",
              "      background-color: #E8F0FE;\n",
              "      border: none;\n",
              "      border-radius: 50%;\n",
              "      cursor: pointer;\n",
              "      display: none;\n",
              "      fill: #1967D2;\n",
              "      height: 32px;\n",
              "      padding: 0 0 0 0;\n",
              "      width: 32px;\n",
              "    }\n",
              "\n",
              "    .colab-df-convert:hover {\n",
              "      background-color: #E2EBFA;\n",
              "      box-shadow: 0px 1px 2px rgba(60, 64, 67, 0.3), 0px 1px 3px 1px rgba(60, 64, 67, 0.15);\n",
              "      fill: #174EA6;\n",
              "    }\n",
              "\n",
              "    [theme=dark] .colab-df-convert {\n",
              "      background-color: #3B4455;\n",
              "      fill: #D2E3FC;\n",
              "    }\n",
              "\n",
              "    [theme=dark] .colab-df-convert:hover {\n",
              "      background-color: #434B5C;\n",
              "      box-shadow: 0px 1px 3px 1px rgba(0, 0, 0, 0.15);\n",
              "      filter: drop-shadow(0px 1px 2px rgba(0, 0, 0, 0.3));\n",
              "      fill: #FFFFFF;\n",
              "    }\n",
              "  </style>\n",
              "\n",
              "      <script>\n",
              "        const buttonEl =\n",
              "          document.querySelector('#df-4f9c13b4-037f-437f-a731-0e1644d940eb button.colab-df-convert');\n",
              "        buttonEl.style.display =\n",
              "          google.colab.kernel.accessAllowed ? 'block' : 'none';\n",
              "\n",
              "        async function convertToInteractive(key) {\n",
              "          const element = document.querySelector('#df-4f9c13b4-037f-437f-a731-0e1644d940eb');\n",
              "          const dataTable =\n",
              "            await google.colab.kernel.invokeFunction('convertToInteractive',\n",
              "                                                     [key], {});\n",
              "          if (!dataTable) return;\n",
              "\n",
              "          const docLinkHtml = 'Like what you see? Visit the ' +\n",
              "            '<a target=\"_blank\" href=https://colab.research.google.com/notebooks/data_table.ipynb>data table notebook</a>'\n",
              "            + ' to learn more about interactive tables.';\n",
              "          element.innerHTML = '';\n",
              "          dataTable['output_type'] = 'display_data';\n",
              "          await google.colab.output.renderOutput(dataTable, element);\n",
              "          const docLink = document.createElement('div');\n",
              "          docLink.innerHTML = docLinkHtml;\n",
              "          element.appendChild(docLink);\n",
              "        }\n",
              "      </script>\n",
              "    </div>\n",
              "  </div>\n",
              "  "
            ],
            "text/plain": [
              "        T         Ir11         Ir21         Ir31         Ir12         Ir22  \\\n",
              "0      25   512.142648  1068.906497   879.054931  1080.772540  1305.994998   \n",
              "1      25   268.839689   194.423884   974.772872   131.348038   735.566165   \n",
              "2      25  1205.595736   678.794667   550.838906   940.003595  1037.761121   \n",
              "3      25   486.797740   209.996155   820.528894   367.003445    62.235729   \n",
              "4      25   339.899501   619.363238   962.914519   502.919495  1030.876104   \n",
              "...    ..          ...          ...          ...          ...          ...   \n",
              "11654  25   131.016801   301.905858   122.561163  1098.596263   827.474563   \n",
              "11655  25   877.679377  1264.690614   362.452201   549.186622   275.378149   \n",
              "11656  25    79.549659   635.412779   346.649566   520.209246   221.311753   \n",
              "11657  25   778.320387   201.402431  1371.220597  1031.953618   149.761299   \n",
              "11658  25   738.300231   452.258022   671.732485   147.305164  1366.558839   \n",
              "\n",
              "              Ir32  Voltage_pmax  \n",
              "0      1361.837196     89.993092  \n",
              "1       742.481906     57.636579  \n",
              "2       728.073454     91.408712  \n",
              "3      1056.906574     60.258072  \n",
              "4       552.590465     92.205001  \n",
              "...            ...           ...  \n",
              "11654   449.031888     58.678459  \n",
              "11655  1147.440195     59.549993  \n",
              "11656   824.481105     59.758362  \n",
              "11657   128.482777     26.323530  \n",
              "11658  1074.729822     57.528890  \n",
              "\n",
              "[11659 rows x 8 columns]"
            ]
          },
          "execution_count": 65,
          "metadata": {},
          "output_type": "execute_result"
        }
      ],
      "source": [
        "data_frame = pd.DataFrame(data)\n",
        "data_frame"
      ]
    },
    {
      "cell_type": "code",
      "execution_count": null,
      "metadata": {
        "colab": {
          "base_uri": "https://localhost:8080/"
        },
        "id": "brYzbSqaLfAK",
        "outputId": "56f340d1-8587-4ff5-d9b9-45d65ce5c946"
      },
      "outputs": [
        {
          "data": {
            "text/plain": [
              "((11659, 7), (11659,))"
            ]
          },
          "execution_count": 66,
          "metadata": {},
          "output_type": "execute_result"
        }
      ],
      "source": [
        "# Creating features and labels\n",
        "X = data_frame.drop(\"Voltage_pmax\", axis=1)\n",
        "y = data_frame[\"Voltage_pmax\"]\n",
        "X.shape, y.shape"
      ]
    },
    {
      "cell_type": "code",
      "execution_count": null,
      "metadata": {
        "colab": {
          "base_uri": "https://localhost:8080/"
        },
        "id": "EOr5kfKsLfDr",
        "outputId": "2ca53a5d-06c4-42dc-9a53-1b6050e9d013"
      },
      "outputs": [
        {
          "data": {
            "text/plain": [
              "(11659, 9327, 2332)"
            ]
          },
          "execution_count": 67,
          "metadata": {},
          "output_type": "execute_result"
        }
      ],
      "source": [
        "# Creating training and test sets\n",
        "from sklearn.model_selection import train_test_split\n",
        "X_train, X_test, y_train, y_test = train_test_split(X, y, test_size=0.20)\n",
        "len(X), len(X_train), len(X_test)"
      ]
    },
    {
      "cell_type": "code",
      "execution_count": null,
      "metadata": {
        "colab": {
          "base_uri": "https://localhost:8080/",
          "height": 206
        },
        "id": "vHgYfHz-Ly15",
        "outputId": "300017b5-9781-453d-83d2-4506e8a3dbf9"
      },
      "outputs": [
        {
          "data": {
            "text/html": [
              "\n",
              "  <div id=\"df-54801c9d-ed40-4570-8ed4-b98dcf16348b\">\n",
              "    <div class=\"colab-df-container\">\n",
              "      <div>\n",
              "<style scoped>\n",
              "    .dataframe tbody tr th:only-of-type {\n",
              "        vertical-align: middle;\n",
              "    }\n",
              "\n",
              "    .dataframe tbody tr th {\n",
              "        vertical-align: top;\n",
              "    }\n",
              "\n",
              "    .dataframe thead th {\n",
              "        text-align: right;\n",
              "    }\n",
              "</style>\n",
              "<table border=\"1\" class=\"dataframe\">\n",
              "  <thead>\n",
              "    <tr style=\"text-align: right;\">\n",
              "      <th></th>\n",
              "      <th>T</th>\n",
              "      <th>Ir11</th>\n",
              "      <th>Ir21</th>\n",
              "      <th>Ir31</th>\n",
              "      <th>Ir12</th>\n",
              "      <th>Ir22</th>\n",
              "      <th>Ir32</th>\n",
              "    </tr>\n",
              "  </thead>\n",
              "  <tbody>\n",
              "    <tr>\n",
              "      <th>10182</th>\n",
              "      <td>25</td>\n",
              "      <td>1112.717854</td>\n",
              "      <td>426.368768</td>\n",
              "      <td>20.418628</td>\n",
              "      <td>1042.960522</td>\n",
              "      <td>398.737998</td>\n",
              "      <td>1299.184659</td>\n",
              "    </tr>\n",
              "    <tr>\n",
              "      <th>5005</th>\n",
              "      <td>25</td>\n",
              "      <td>1365.526908</td>\n",
              "      <td>1080.629318</td>\n",
              "      <td>1187.013980</td>\n",
              "      <td>517.506980</td>\n",
              "      <td>947.471230</td>\n",
              "      <td>604.344691</td>\n",
              "    </tr>\n",
              "    <tr>\n",
              "      <th>2326</th>\n",
              "      <td>25</td>\n",
              "      <td>581.388792</td>\n",
              "      <td>1282.177450</td>\n",
              "      <td>223.240732</td>\n",
              "      <td>285.051084</td>\n",
              "      <td>210.125349</td>\n",
              "      <td>1340.775021</td>\n",
              "    </tr>\n",
              "    <tr>\n",
              "      <th>3859</th>\n",
              "      <td>25</td>\n",
              "      <td>1187.838499</td>\n",
              "      <td>1263.285257</td>\n",
              "      <td>946.454619</td>\n",
              "      <td>56.837560</td>\n",
              "      <td>693.586683</td>\n",
              "      <td>961.212976</td>\n",
              "    </tr>\n",
              "    <tr>\n",
              "      <th>1285</th>\n",
              "      <td>25</td>\n",
              "      <td>480.933288</td>\n",
              "      <td>12.983485</td>\n",
              "      <td>269.425069</td>\n",
              "      <td>710.342896</td>\n",
              "      <td>33.938574</td>\n",
              "      <td>770.058015</td>\n",
              "    </tr>\n",
              "  </tbody>\n",
              "</table>\n",
              "</div>\n",
              "      <button class=\"colab-df-convert\" onclick=\"convertToInteractive('df-54801c9d-ed40-4570-8ed4-b98dcf16348b')\"\n",
              "              title=\"Convert this dataframe to an interactive table.\"\n",
              "              style=\"display:none;\">\n",
              "        \n",
              "  <svg xmlns=\"http://www.w3.org/2000/svg\" height=\"24px\"viewBox=\"0 0 24 24\"\n",
              "       width=\"24px\">\n",
              "    <path d=\"M0 0h24v24H0V0z\" fill=\"none\"/>\n",
              "    <path d=\"M18.56 5.44l.94 2.06.94-2.06 2.06-.94-2.06-.94-.94-2.06-.94 2.06-2.06.94zm-11 1L8.5 8.5l.94-2.06 2.06-.94-2.06-.94L8.5 2.5l-.94 2.06-2.06.94zm10 10l.94 2.06.94-2.06 2.06-.94-2.06-.94-.94-2.06-.94 2.06-2.06.94z\"/><path d=\"M17.41 7.96l-1.37-1.37c-.4-.4-.92-.59-1.43-.59-.52 0-1.04.2-1.43.59L10.3 9.45l-7.72 7.72c-.78.78-.78 2.05 0 2.83L4 21.41c.39.39.9.59 1.41.59.51 0 1.02-.2 1.41-.59l7.78-7.78 2.81-2.81c.8-.78.8-2.07 0-2.86zM5.41 20L4 18.59l7.72-7.72 1.47 1.35L5.41 20z\"/>\n",
              "  </svg>\n",
              "      </button>\n",
              "      \n",
              "  <style>\n",
              "    .colab-df-container {\n",
              "      display:flex;\n",
              "      flex-wrap:wrap;\n",
              "      gap: 12px;\n",
              "    }\n",
              "\n",
              "    .colab-df-convert {\n",
              "      background-color: #E8F0FE;\n",
              "      border: none;\n",
              "      border-radius: 50%;\n",
              "      cursor: pointer;\n",
              "      display: none;\n",
              "      fill: #1967D2;\n",
              "      height: 32px;\n",
              "      padding: 0 0 0 0;\n",
              "      width: 32px;\n",
              "    }\n",
              "\n",
              "    .colab-df-convert:hover {\n",
              "      background-color: #E2EBFA;\n",
              "      box-shadow: 0px 1px 2px rgba(60, 64, 67, 0.3), 0px 1px 3px 1px rgba(60, 64, 67, 0.15);\n",
              "      fill: #174EA6;\n",
              "    }\n",
              "\n",
              "    [theme=dark] .colab-df-convert {\n",
              "      background-color: #3B4455;\n",
              "      fill: #D2E3FC;\n",
              "    }\n",
              "\n",
              "    [theme=dark] .colab-df-convert:hover {\n",
              "      background-color: #434B5C;\n",
              "      box-shadow: 0px 1px 3px 1px rgba(0, 0, 0, 0.15);\n",
              "      filter: drop-shadow(0px 1px 2px rgba(0, 0, 0, 0.3));\n",
              "      fill: #FFFFFF;\n",
              "    }\n",
              "  </style>\n",
              "\n",
              "      <script>\n",
              "        const buttonEl =\n",
              "          document.querySelector('#df-54801c9d-ed40-4570-8ed4-b98dcf16348b button.colab-df-convert');\n",
              "        buttonEl.style.display =\n",
              "          google.colab.kernel.accessAllowed ? 'block' : 'none';\n",
              "\n",
              "        async function convertToInteractive(key) {\n",
              "          const element = document.querySelector('#df-54801c9d-ed40-4570-8ed4-b98dcf16348b');\n",
              "          const dataTable =\n",
              "            await google.colab.kernel.invokeFunction('convertToInteractive',\n",
              "                                                     [key], {});\n",
              "          if (!dataTable) return;\n",
              "\n",
              "          const docLinkHtml = 'Like what you see? Visit the ' +\n",
              "            '<a target=\"_blank\" href=https://colab.research.google.com/notebooks/data_table.ipynb>data table notebook</a>'\n",
              "            + ' to learn more about interactive tables.';\n",
              "          element.innerHTML = '';\n",
              "          dataTable['output_type'] = 'display_data';\n",
              "          await google.colab.output.renderOutput(dataTable, element);\n",
              "          const docLink = document.createElement('div');\n",
              "          docLink.innerHTML = docLinkHtml;\n",
              "          element.appendChild(docLink);\n",
              "        }\n",
              "      </script>\n",
              "    </div>\n",
              "  </div>\n",
              "  "
            ],
            "text/plain": [
              "        T         Ir11         Ir21         Ir31         Ir12        Ir22  \\\n",
              "10182  25  1112.717854   426.368768    20.418628  1042.960522  398.737998   \n",
              "5005   25  1365.526908  1080.629318  1187.013980   517.506980  947.471230   \n",
              "2326   25   581.388792  1282.177450   223.240732   285.051084  210.125349   \n",
              "3859   25  1187.838499  1263.285257   946.454619    56.837560  693.586683   \n",
              "1285   25   480.933288    12.983485   269.425069   710.342896   33.938574   \n",
              "\n",
              "              Ir32  \n",
              "10182  1299.184659  \n",
              "5005    604.344691  \n",
              "2326   1340.775021  \n",
              "3859    961.212976  \n",
              "1285    770.058015  "
            ]
          },
          "execution_count": 68,
          "metadata": {},
          "output_type": "execute_result"
        }
      ],
      "source": [
        "X_train.head()"
      ]
    },
    {
      "cell_type": "code",
      "execution_count": null,
      "metadata": {
        "id": "tx4_q92Wdgdz"
      },
      "outputs": [],
      "source": [
        "# Reshape features for LSTM Layer\n",
        "X_train = np.reshape(X_train, (X_train.shape[0], X_train.shape[1]))\n",
        "\n",
        "X_test = np.reshape(X_test, (X_test.shape[0], X_test.shape[1]))"
      ]
    },
    {
      "cell_type": "code",
      "execution_count": null,
      "metadata": {
        "id": "2lIHGwC7L3WQ"
      },
      "outputs": [],
      "source": [
        "# Set random seed\n",
        "tf.random.set_seed(42)\n",
        "\n",
        "# Create model (model_1)\n",
        "model_1 = tf.keras.Sequential([\n",
        "                               tf.keras.layers.Dense(6, activation=\"relu\"),\n",
        "                               tf.keras.layers.Dense(46, activation=\"softmax\"),\n",
        "                               tf.keras.layers.Dense(66, activation=\"linear\"),\n",
        "                               tf.keras.layers.Dense(88, activation=\"relu\"),\n",
        "                               tf.keras.layers.Dense(66, activation=\"sigmoid\"),\n",
        "                               tf.keras.layers.Dense(46, activation=\"relu\"),\n",
        "                                 tf.keras.layers.Dense(46, activation=\"sigmoid\"),\n",
        "\n",
        "\n",
        "                               tf.keras.layers.Dense(1)\n",
        "                             \n",
        "])\n"
      ]
    },
    {
      "cell_type": "code",
      "execution_count": null,
      "metadata": {
        "colab": {
          "base_uri": "https://localhost:8080/"
        },
        "id": "qBgaZ4Yaa7XZ",
        "outputId": "d7365ae1-28cb-4fd0-a752-e27aafba6350"
      },
      "outputs": [
        {
          "name": "stderr",
          "output_type": "stream",
          "text": [
            "/usr/local/lib/python3.7/dist-packages/keras/optimizer_v2/adam.py:105: UserWarning: The `lr` argument is deprecated, use `learning_rate` instead.\n",
            "  super(Adam, self).__init__(name, **kwargs)\n"
          ]
        }
      ],
      "source": [
        "# Compile the model\n",
        "model_1.compile(loss=keras.losses.mae,\n",
        "                optimizer=tf.keras.optimizers.Adam(lr=0.0001),\n",
        "                metrics=[\"mae\"])"
      ]
    },
    {
      "cell_type": "code",
      "execution_count": null,
      "metadata": {
        "colab": {
          "background_save": true,
          "base_uri": "https://localhost:8080/"
        },
        "id": "6CH6ueS-a_Au",
        "outputId": "cd6b8869-0230-4f60-ac07-a534aaef72e7"
      },
      "outputs": [
        {
          "name": "stdout",
          "output_type": "stream",
          "text": [
            "Epoch 1/50\n",
            "292/292 [==============================] - 1s 3ms/step - loss: 63.2119 - mae: 63.2119\n",
            "Epoch 2/50\n",
            "292/292 [==============================] - 1s 3ms/step - loss: 60.0654 - mae: 60.0654\n",
            "Epoch 3/50\n",
            "292/292 [==============================] - 1s 3ms/step - loss: 58.5765 - mae: 58.5765\n",
            "Epoch 4/50\n",
            "292/292 [==============================] - 1s 3ms/step - loss: 57.6391 - mae: 57.6391\n",
            "Epoch 5/50\n",
            "292/292 [==============================] - 1s 3ms/step - loss: 56.7863 - mae: 56.7863\n",
            "Epoch 6/50\n",
            "292/292 [==============================] - 1s 3ms/step - loss: 55.9605 - mae: 55.9605\n",
            "Epoch 7/50\n",
            "292/292 [==============================] - 1s 3ms/step - loss: 55.1466 - mae: 55.1466\n",
            "Epoch 8/50\n",
            "292/292 [==============================] - 1s 3ms/step - loss: 54.3407 - mae: 54.3407\n",
            "Epoch 9/50\n",
            "292/292 [==============================] - 1s 3ms/step - loss: 53.5407 - mae: 53.5407\n",
            "Epoch 10/50\n",
            "292/292 [==============================] - 1s 3ms/step - loss: 52.7443 - mae: 52.7443\n",
            "Epoch 11/50\n",
            "292/292 [==============================] - 1s 3ms/step - loss: 51.9501 - mae: 51.9501\n",
            "Epoch 12/50\n",
            "292/292 [==============================] - 1s 3ms/step - loss: 51.1575 - mae: 51.1575\n",
            "Epoch 13/50\n",
            "292/292 [==============================] - 1s 3ms/step - loss: 50.3660 - mae: 50.3660\n",
            "Epoch 14/50\n",
            "292/292 [==============================] - 1s 3ms/step - loss: 49.5754 - mae: 49.5754\n",
            "Epoch 15/50\n",
            "292/292 [==============================] - 1s 3ms/step - loss: 48.7853 - mae: 48.7853\n",
            "Epoch 16/50\n",
            "292/292 [==============================] - 1s 3ms/step - loss: 47.9956 - mae: 47.9956\n",
            "Epoch 17/50\n",
            "292/292 [==============================] - 1s 3ms/step - loss: 47.2063 - mae: 47.2063\n",
            "Epoch 18/50\n",
            "292/292 [==============================] - 1s 3ms/step - loss: 46.4172 - mae: 46.4172\n",
            "Epoch 19/50\n",
            "292/292 [==============================] - 1s 3ms/step - loss: 45.6283 - mae: 45.6283\n",
            "Epoch 20/50\n",
            "292/292 [==============================] - 1s 3ms/step - loss: 44.8396 - mae: 44.8396\n",
            "Epoch 21/50\n",
            "292/292 [==============================] - 1s 3ms/step - loss: 44.0509 - mae: 44.0509\n",
            "Epoch 22/50\n",
            "292/292 [==============================] - 1s 3ms/step - loss: 43.2623 - mae: 43.2623\n",
            "Epoch 23/50\n",
            "292/292 [==============================] - 1s 3ms/step - loss: 42.4738 - mae: 42.4738\n",
            "Epoch 24/50\n",
            "292/292 [==============================] - 1s 3ms/step - loss: 41.6852 - mae: 41.6852\n",
            "Epoch 25/50\n",
            "292/292 [==============================] - 1s 3ms/step - loss: 40.8967 - mae: 40.8967\n",
            "Epoch 26/50\n",
            "292/292 [==============================] - 1s 3ms/step - loss: 40.1082 - mae: 40.1082\n",
            "Epoch 27/50\n",
            "292/292 [==============================] - 1s 3ms/step - loss: 39.3196 - mae: 39.3196\n",
            "Epoch 28/50\n",
            "292/292 [==============================] - 1s 3ms/step - loss: 38.5475 - mae: 38.5475\n",
            "Epoch 29/50\n",
            "292/292 [==============================] - 1s 3ms/step - loss: 37.9189 - mae: 37.9189\n",
            "Epoch 30/50\n",
            "292/292 [==============================] - 1s 3ms/step - loss: 37.3409 - mae: 37.3409\n",
            "Epoch 31/50\n",
            "292/292 [==============================] - 1s 3ms/step - loss: 36.7482 - mae: 36.7482\n",
            "Epoch 32/50\n",
            "292/292 [==============================] - 1s 3ms/step - loss: 36.1424 - mae: 36.1424\n",
            "Epoch 33/50\n",
            "292/292 [==============================] - 1s 3ms/step - loss: 35.5255 - mae: 35.5255\n",
            "Epoch 34/50\n",
            "292/292 [==============================] - 1s 3ms/step - loss: 34.8999 - mae: 34.8999\n",
            "Epoch 35/50\n",
            "292/292 [==============================] - 1s 3ms/step - loss: 34.2676 - mae: 34.2676\n",
            "Epoch 36/50\n",
            "292/292 [==============================] - 1s 3ms/step - loss: 33.6300 - mae: 33.6300\n",
            "Epoch 37/50\n",
            "292/292 [==============================] - 1s 3ms/step - loss: 32.9881 - mae: 32.9881\n",
            "Epoch 38/50\n",
            "292/292 [==============================] - 1s 3ms/step - loss: 32.3435 - mae: 32.3435\n",
            "Epoch 39/50\n",
            "292/292 [==============================] - 1s 3ms/step - loss: 31.6963 - mae: 31.6963\n",
            "Epoch 40/50\n",
            "292/292 [==============================] - 1s 3ms/step - loss: 31.0480 - mae: 31.0480\n",
            "Epoch 41/50\n",
            "292/292 [==============================] - 1s 3ms/step - loss: 30.3982 - mae: 30.3982\n",
            "Epoch 42/50\n",
            "292/292 [==============================] - 1s 3ms/step - loss: 29.7473 - mae: 29.7473\n",
            "Epoch 43/50\n",
            "292/292 [==============================] - 1s 3ms/step - loss: 29.0963 - mae: 29.0963\n",
            "Epoch 44/50\n",
            "292/292 [==============================] - 1s 3ms/step - loss: 28.4450 - mae: 28.4450\n",
            "Epoch 45/50\n",
            "292/292 [==============================] - 1s 3ms/step - loss: 27.7931 - mae: 27.7931\n",
            "Epoch 46/50\n",
            "292/292 [==============================] - 1s 3ms/step - loss: 27.1409 - mae: 27.1409\n",
            "Epoch 47/50\n",
            "292/292 [==============================] - 1s 3ms/step - loss: 26.4888 - mae: 26.4888\n",
            "Epoch 48/50\n",
            "292/292 [==============================] - 1s 3ms/step - loss: 25.8357 - mae: 25.8357\n",
            "Epoch 49/50\n",
            "292/292 [==============================] - 1s 3ms/step - loss: 25.1826 - mae: 25.1826\n",
            "Epoch 50/50\n",
            "292/292 [==============================] - 1s 3ms/step - loss: 24.5296 - mae: 24.5296\n"
          ]
        }
      ],
      "source": [
        "# Fit the model\n",
        "history_1=model_1.fit(X_train, y_train, epochs=100)"
      ]
    },
    {
      "cell_type": "code",
      "execution_count": null,
      "metadata": {
        "colab": {
          "base_uri": "https://localhost:8080/",
          "height": 312
        },
        "id": "kVXjg_qYNEl0",
        "outputId": "0f3e24b5-4956-4f72-d419-97e9085dc060"
      },
      "outputs": [
        {
          "name": "stdout",
          "output_type": "stream",
          "text": [
            "dict_keys(['loss', 'mae'])\n"
          ]
        },
        {
          "data": {
            "image/png": "[encoded data removed]",
            "text/plain": [
              "<Figure size 432x288 with 1 Axes>"
            ]
          },
          "metadata": {},
          "output_type": "display_data"
        }
      ],
      "source": [
        "# Plot training curve\n",
        "\n",
        "print(history_1.history.keys())\n",
        "# \"Loss\"\n",
        "plt.plot(history_1.history['loss'])\n",
        "plt.title('model loss')\n",
        "plt.ylabel('loss')\n",
        "plt.ylabel('mae')\n",
        "plt.xlabel('epochs')\n",
        "plt.legend(['train', 'validation'], loc='upper right')\n",
        "plt.show()"
      ]
    },
    {
      "cell_type": "code",
      "execution_count": null,
      "metadata": {
        "colab": {
          "background_save": true
        },
        "id": "fH_bzGCGNbx_",
        "outputId": "56aa89b8-cf9e-4e80-e0ab-7d5187c0c684"
      },
      "outputs": [
        {
          "name": "stdout",
          "output_type": "stream",
          "text": [
            "73/73 [==============================] - 0s 2ms/step - loss: 12.1027 - mae: 12.1027\n"
          ]
        },
        {
          "data": {
            "text/plain": [
              "[12.102651596069336, 12.102651596069336]"
            ]
          },
          "execution_count": 127,
          "metadata": {},
          "output_type": "execute_result"
        }
      ],
      "source": [
        "# Evaluate the model\n",
        "model_1.evaluate(X_test, y_test)"
      ]
    },
    {
      "cell_type": "code",
      "execution_count": null,
      "metadata": {
        "colab": {
          "background_save": true
        },
        "id": "h9jCpOZhEBcs"
      },
      "outputs": [],
      "source": [
        "def sigmoid(x):\n",
        "    return 1/(1 + np.exp(-x))\n",
        "\n",
        "class genetic_algorithm:\n",
        "        \n",
        "    def execute(pop_size,generations,threshold,X,y,network):\n",
        "        class Agent:\n",
        "            def __init__(self,network):                \n",
        "                class neural_network:\n",
        "                    def __init__(self,network):\n",
        "                        self.weights = []\n",
        "                        self.activations = []\n",
        "                        for layer in network:\n",
        "                            if layer[0] != None:\n",
        "                                input_size = layer[0]\n",
        "                            else:\n",
        "                                input_size = network[network.index(layer)-1][1]\n",
        "                            output_size = layer[1]\n",
        "                            activation = layer[2]\n",
        "                            self.weights.append(np.random.randn(input_size,output_size))\n",
        "                            self.activations.append(activation)\n",
        "                    def propagate(self,data):\n",
        "                        input_data = data\n",
        "                        for i in range(len(self.weights)):\n",
        "                            z = np.dot(input_data,self.weights[i])\n",
        "                            a = self.activations[i](z)\n",
        "                            input_data = a\n",
        "                        yhat = a\n",
        "                        return yhat\n",
        "                    \n",
        "                self.neural_network = neural_network(network)\n",
        "                self.fitness = 0\n",
        "                \n",
        "        def generate_agents(population, network):\n",
        "                    return [Agent(network) for _ in range(population)];\n",
        "                \n",
        "        def fitness(agents,X,y):\n",
        "            for agent in agents:\n",
        "                yhat = agent.neural_network.propagate(X)\n",
        "                cost = (yhat - y)**2\n",
        "                agent.fitness = sum(cost)\n",
        "            return agents\n",
        "                \n",
        "        def selection(agents):\n",
        "            agents = sorted(agents, key=lambda agent: agent.fitness, reverse=False)\n",
        "            #print('\\n'.join(map(str, agents)))\n",
        "            agents = agents[:int(0.2 * len(agents))]\n",
        "            return agents\n",
        "                \n",
        "        def unflatten(flattened,shapes):\n",
        "            newarray = []\n",
        "            index = 0\n",
        "            for shape in shapes:\n",
        "                size = np.product(shape)\n",
        "                newarray.append(flattened[index : index + size].reshape(shape))\n",
        "                index += size\n",
        "            return newarray\n",
        "                \n",
        "        def crossover(agents,network,pop_size):\n",
        "            offspring = []\n",
        "            for _ in range((pop_size - len(agents)) // 2):\n",
        "                parent1 = random.choice(agents)\n",
        "                parent2 = random.choice(agents)\n",
        "                child1 = Agent(network)\n",
        "                child2 = Agent(network)\n",
        "                \n",
        "                shapes = [a.shape for a in parent1.neural_network.weights]\n",
        "                \n",
        "                genes1 = np.concatenate([a.flatten() for a in parent1.neural_network.weights])\n",
        "                genes2 = np.concatenate([a.flatten() for a in parent2.neural_network.weights])\n",
        "                \n",
        "                split = random.randint(0,len(genes1)-1)\n",
        "                child1_genes = np.array(genes1[0:split].tolist() + genes2[split:].tolist())\n",
        "                child2_genes = np.array(genes2[0:split].tolist() + genes1[split:].tolist())\n",
        "                \n",
        "                child1.neural_network.weights = unflatten(child1_genes,shapes)\n",
        "                child2.neural_network.weights = unflatten(child2_genes,shapes)\n",
        "                \n",
        "                offspring.append(child1)\n",
        "                offspring.append(child2)\n",
        "            agents.extend(offspring)\n",
        "            return agents\n",
        "                    \n",
        "        def mutation(agents):\n",
        "            for agent in agents:\n",
        "                if random.uniform(0.0, 1.0) <= 0.1:\n",
        "                    weights = agent.neural_network.weights\n",
        "                    shapes = [a.shape for a in weights]\n",
        "                    flattened = np.concatenate([a.flatten() for a in weights])\n",
        "                    randintg = random.randint(0,len(flattened)-1)\n",
        "                    flattened[randintg] = np.random.randn()\n",
        "                    newarray = []\n",
        "                    indeweights = 0\n",
        "                    for shape in shapes:\n",
        "                        size = np.product(shape)\n",
        "                        newarray.append(flattened[indeweights : indeweights + size].reshape(shape))\n",
        "                        indeweights += size\n",
        "            agent.neural_network.weights = newarray\n",
        "            return agents \n",
        "            \n",
        "        for i in range(generations):\n",
        "            if i==0:\n",
        "                agents = generate_agents(pop_size,network)\n",
        "                \n",
        "            agents = fitness(agents,X,y)\n",
        "            agents = selection(agents)\n",
        "            agents = crossover(agents,network,pop_size)\n",
        "            agents = mutation(agents)\n",
        "            agents = fitness(agents,X,y)\n",
        "            if any(agent.fitness < threshold for agent in agents):\n",
        "                print('Threshold met at generation '+str(i)+' !')\n",
        "            \n",
        "            if i % 10==0:\n",
        "                print('Generation',str(i),':')\n",
        "                print('The Best agent has fitness ' +str(agents[0].fitness)+ 'at generation '+str(i)+'.')\n",
        "                print('The Worst agent has fitness ' +str(agents[-1].fitness)+ 'at generation '+str(i)+'.')\n",
        "            \n",
        "        return agents[0]"
      ]
    },
    {
      "cell_type": "code",
      "execution_count": null,
      "metadata": {
        "colab": {
          "background_save": true
        },
        "id": "oo6EF_RQEBg2",
        "outputId": "ef5b3fff-8417-49c3-c4c2-582fdf3b1835"
      },
      "outputs": [
        {
          "name": "stdout",
          "output_type": "stream",
          "text": [
            "Generation 0 :\n",
            "The Best agent has fitness [0.45425543]at generation 0.\n",
            "The Worst agent has fitness [1.02771873]at generation 0.\n",
            "Generation 10 :\n",
            "The Best agent has fitness [0.16610065]at generation 10.\n",
            "The Worst agent has fitness [0.18246986]at generation 10.\n",
            "Generation 20 :\n",
            "The Best agent has fitness [0.14997849]at generation 20.\n",
            "The Worst agent has fitness [0.15028484]at generation 20.\n",
            "Generation 30 :\n",
            "The Best agent has fitness [0.14877532]at generation 30.\n",
            "The Worst agent has fitness [0.25992057]at generation 30.\n",
            "Generation 40 :\n",
            "The Best agent has fitness [0.14085647]at generation 40.\n",
            "The Worst agent has fitness [0.1499255]at generation 40.\n",
            "Generation 50 :\n",
            "The Best agent has fitness [0.14085647]at generation 50.\n",
            "The Worst agent has fitness [0.18025797]at generation 50.\n",
            "Generation 60 :\n",
            "The Best agent has fitness [0.13615201]at generation 60.\n",
            "The Worst agent has fitness [0.57061859]at generation 60.\n",
            "Generation 70 :\n",
            "The Best agent has fitness [0.13327912]at generation 70.\n",
            "The Worst agent has fitness [0.19566129]at generation 70.\n",
            "Generation 80 :\n",
            "The Best agent has fitness [0.11333996]at generation 80.\n",
            "The Worst agent has fitness [0.14224256]at generation 80.\n",
            "Generation 90 :\n",
            "The Best agent has fitness [0.10881882]at generation 90.\n",
            "The Worst agent has fitness [0.12710094]at generation 90.\n",
            "[0.10881882]\n",
            "[[0.15675725]\n",
            " [0.82525957]\n",
            " [0.84066733]\n",
            " [0.16829992]]\n"
          ]
        }
      ],
      "source": [
        "X = np.array([[0, 0, 1], [1, 1, 1], [1, 0, 1], [0, 1, 1]])\n",
        "y = np.array([[0, 1, 1, 0]]).T\n",
        "network = [[3,10,sigmoid],[None,1,sigmoid]]\n",
        "ga = genetic_algorithm\n",
        "agent = ga.execute(100,100,0.1,X,y,network)\n",
        "weights = agent.neural_network.weights\n",
        "print(agent.fitness)\n",
        "print(agent.neural_network.propagate(X))"
      ]
    },
    {
      "cell_type": "code",
      "execution_count": null,
      "metadata": {
        "colab": {
          "background_save": true
        },
        "id": "MPMLGil8UYly",
        "outputId": "61cf48fa-153f-4c9f-c0fe-17c489bc7d89"
      },
      "outputs": [
        {
          "ename": "NameError",
          "evalue": "ignored",
          "output_type": "error",
          "traceback": [
            "\u001b[0;31m---------------------------------------------------------------------------\u001b[0m",
            "\u001b[0;31mNameError\u001b[0m                                 Traceback (most recent call last)",
            "\u001b[0;32m<ipython-input-135-6476ab7bea74>\u001b[0m in \u001b[0;36m<module>\u001b[0;34m()\u001b[0m\n\u001b[1;32m      1\u001b[0m \u001b[0;31m# Plot training curve\u001b[0m\u001b[0;34m\u001b[0m\u001b[0;34m\u001b[0m\u001b[0;34m\u001b[0m\u001b[0m\n\u001b[0;32m----> 2\u001b[0;31m \u001b[0mpd\u001b[0m\u001b[0;34m.\u001b[0m\u001b[0mDataFrame\u001b[0m\u001b[0;34m(\u001b[0m\u001b[0mhistory_2\u001b[0m\u001b[0;34m.\u001b[0m\u001b[0mhistory\u001b[0m\u001b[0;34m)\u001b[0m\u001b[0;34m.\u001b[0m\u001b[0mplot\u001b[0m\u001b[0;34m(\u001b[0m\u001b[0;34m)\u001b[0m\u001b[0;34m\u001b[0m\u001b[0;34m\u001b[0m\u001b[0m\n\u001b[0m\u001b[1;32m      3\u001b[0m \u001b[0mplt\u001b[0m\u001b[0;34m.\u001b[0m\u001b[0mxlabel\u001b[0m\u001b[0;34m(\u001b[0m\u001b[0;34m\"epochs\"\u001b[0m\u001b[0;34m)\u001b[0m\u001b[0;34m\u001b[0m\u001b[0;34m\u001b[0m\u001b[0m\n\u001b[1;32m      4\u001b[0m \u001b[0mplt\u001b[0m\u001b[0;34m.\u001b[0m\u001b[0mylabel\u001b[0m\u001b[0;34m(\u001b[0m\u001b[0;34m\"loss\"\u001b[0m\u001b[0;34m)\u001b[0m\u001b[0;34m\u001b[0m\u001b[0;34m\u001b[0m\u001b[0m\n",
            "\u001b[0;31mNameError\u001b[0m: name 'history_2' is not defined"
          ]
        }
      ],
      "source": [
        "# Plot training curve\n",
        "pd.DataFrame(history_2.history).plot()\n",
        "plt.xlabel(\"epochs\")\n",
        "plt.ylabel(\"loss\")"
      ]
    },
    {
      "cell_type": "code",
      "execution_count": null,
      "metadata": {
        "colab": {
          "background_save": true
        },
        "id": "tRkWNlbD58PL"
      },
      "outputs": [],
      "source": [
        "print(weights)\n"
      ]
    },
    {
      "cell_type": "code",
      "execution_count": null,
      "metadata": {
        "colab": {
          "background_save": true
        },
        "id": "LYvyDMz558pC"
      },
      "outputs": [],
      "source": [
        ""
      ]
    },
    {
      "cell_type": "code",
      "execution_count": null,
      "metadata": {
        "colab": {
          "background_save": true
        },
        "id": "dQfxwndEUY2i"
      },
      "outputs": [],
      "source": [
        "y_preds = model_1.predict(X_test)"
      ]
    },
    {
      "cell_type": "code",
      "execution_count": null,
      "metadata": {
        "colab": {
          "background_save": true
        },
        "id": "ATZvMSj7U9Jy"
      },
      "outputs": [],
      "source": [
        "y_preds"
      ]
    },
    {
      "cell_type": "code",
      "execution_count": null,
      "metadata": {
        "colab": {
          "background_save": true
        },
        "id": "5owz1H0qU9Rf"
      },
      "outputs": [],
      "source": [
        "y_test = tf.squeeze(y_test)"
      ]
    },
    {
      "cell_type": "code",
      "execution_count": null,
      "metadata": {
        "colab": {
          "background_save": true
        },
        "id": "ztVL89lyVMBP"
      },
      "outputs": [],
      "source": [
        "y_test"
      ]
    },
    {
      "cell_type": "code",
      "execution_count": null,
      "metadata": {
        "colab": {
          "background_save": true
        },
        "id": "4qvs0mb7VTb3"
      },
      "outputs": [],
      "source": [
        "y_preds=tf.squeeze(y_preds)"
      ]
    },
    {
      "cell_type": "code",
      "execution_count": null,
      "metadata": {
        "colab": {
          "background_save": true
        },
        "id": "BOz-N9vsVa-Q"
      },
      "outputs": [],
      "source": [
        "y_preds"
      ]
    }
  ],
  "metadata": {
    "colab": {
      "collapsed_sections": [],
      "name": "Untitled2.ipynb",
      "provenance": [],
      "mount_file_id": "1Rs-pKBZRVX0lQTW4cwpQ6kyZBp97Ll-7",
      "authorship_tag": "ABX9TyPIpM0Q4XRXtSDucNGVnXVz",
      "include_colab_link": true
    },
    "kernelspec": {
      "display_name": "Python 3",
      "name": "python3"
    },
    "language_info": {
      "name": "python"
    }
  },
  "nbformat": 4,
  "nbformat_minor": 0
}